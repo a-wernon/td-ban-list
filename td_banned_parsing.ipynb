{
  "nbformat": 4,
  "nbformat_minor": 0,
  "metadata": {
    "colab": {
      "provenance": []
    },
    "kernelspec": {
      "name": "python3",
      "display_name": "Python 3"
    },
    "language_info": {
      "name": "python"
    }
  },
  "cells": [
    {
      "cell_type": "code",
      "execution_count": 1,
      "metadata": {
        "id": "f1l-2GB7fk5v"
      },
      "outputs": [],
      "source": [
        "import requests\n",
        "import urllib.request as ur\n",
        "from bs4 import BeautifulSoup\n",
        "import tqdm\n",
        "import time"
      ]
    },
    {
      "cell_type": "code",
      "source": [
        "def text_preprocess(names:list) -> list:\n",
        "    # mb smth more complex needed\n",
        "    return [a.replace(\"@\", \"\").lower() for a in names]"
      ],
      "metadata": {
        "id": "cssB34p32CvF"
      },
      "execution_count": 5,
      "outputs": []
    },
    {
      "cell_type": "code",
      "source": [
        "samp_url = 'https://topdeck.ru/forums/topic/7409-%D0%B1%D1%8B%D0%BB%D0%B8-%D0%BD%D0%B0%D0%BA%D0%B0%D0%B7%D0%B0%D0%BD%D1%8B/page/36/'\n",
        "\n",
        "def get_dict_for_one_page(page_url:str) -> dict:\n",
        "    '''\n",
        "    makes a query, then parses it to return dict of \"username\": [punishment links]\n",
        "    '''\n",
        "\n",
        "    html = ur.urlopen(page_url)\n",
        "    if html.status != 200:\n",
        "        raise ValueError\n",
        "    bs = BeautifulSoup(html.read())\n",
        "\n",
        "    resp = bs.findAll('div', {\"class\": \"ipsType_normal ipsType_richText ipsPadding_bottom ipsContained\"})\n",
        "    share = bs.findAll('div', {\"class\": \"ipsType_reset ipsResponsive_hidePhone\"})\n",
        "    if len(resp) != len(share):\n",
        "        print('more complicated link parser needed')\n",
        "        raise NotImplemented\n",
        "    \n",
        "    ans_dict = {}\n",
        "\n",
        "    for i, txt in enumerate(resp):\n",
        "        mentioned_users = [u.text for u in txt.findAll(\"strong\")] + [\n",
        "            u.text\n",
        "            for u in txt.findAll(\"a\", {\"contenteditable\": \"false\"})\n",
        "        ]\n",
        "        mentioned_users = text_preprocess(mentioned_users)\n",
        "        link = share[i].a[\"href\"]\n",
        "        if len(mentioned_users) == 0:\n",
        "            print(f'No users mentioned in message {link}')\n",
        "\n",
        "        for user in mentioned_users:\n",
        "            if user in ans_dict:\n",
        "                ans_dict[user].append(link)\n",
        "            else:\n",
        "                ans_dict[user] = [link]\n",
        "\n",
        "    #to make order chronological\n",
        "    for k in ans_dict:\n",
        "        ans_dict[k] = ans_dict[k][::-1]\n",
        "\n",
        "    return ans_dict\n",
        "\n",
        "get_dict_for_one_page(samp_url)"
      ],
      "metadata": {
        "colab": {
          "base_uri": "https://localhost:8080/"
        },
        "id": "vCBJVmWyjbSG",
        "outputId": "3ca98ae1-03b2-4721-f084-628aa744b4dc"
      },
      "execution_count": 6,
      "outputs": [
        {
          "output_type": "execute_result",
          "data": {
            "text/plain": [
              "{'deutchland magic': ['https://topdeck.ru/forums/topic/7409-%D0%B1%D1%8B%D0%BB%D0%B8-%D0%BD%D0%B0%D0%BA%D0%B0%D0%B7%D0%B0%D0%BD%D1%8B/?do=findComment&comment=1629927'],\n",
              " 'mijoil': ['https://topdeck.ru/forums/topic/7409-%D0%B1%D1%8B%D0%BB%D0%B8-%D0%BD%D0%B0%D0%BA%D0%B0%D0%B7%D0%B0%D0%BD%D1%8B/?do=findComment&comment=1629927'],\n",
              " 'neeclejoose': ['https://topdeck.ru/forums/topic/7409-%D0%B1%D1%8B%D0%BB%D0%B8-%D0%BD%D0%B0%D0%BA%D0%B0%D0%B7%D0%B0%D0%BD%D1%8B/?do=findComment&comment=1629927'],\n",
              " 'cardplace.ru': ['https://topdeck.ru/forums/topic/7409-%D0%B1%D1%8B%D0%BB%D0%B8-%D0%BD%D0%B0%D0%BA%D0%B0%D0%B7%D0%B0%D0%BD%D1%8B/?do=findComment&comment=1629927'],\n",
              " 'илья шишкин': ['https://topdeck.ru/forums/topic/7409-%D0%B1%D1%8B%D0%BB%D0%B8-%D0%BD%D0%B0%D0%BA%D0%B0%D0%B7%D0%B0%D0%BD%D1%8B/?do=findComment&comment=1629927'],\n",
              " 'никита солохин': ['https://topdeck.ru/forums/topic/7409-%D0%B1%D1%8B%D0%BB%D0%B8-%D0%BD%D0%B0%D0%BA%D0%B0%D0%B7%D0%B0%D0%BD%D1%8B/?do=findComment&comment=1629927'],\n",
              " 'gorefist': ['https://topdeck.ru/forums/topic/7409-%D0%B1%D1%8B%D0%BB%D0%B8-%D0%BD%D0%B0%D0%BA%D0%B0%D0%B7%D0%B0%D0%BD%D1%8B/?do=findComment&comment=1629927'],\n",
              " 'tsareff_a': ['https://topdeck.ru/forums/topic/7409-%D0%B1%D1%8B%D0%BB%D0%B8-%D0%BD%D0%B0%D0%BA%D0%B0%D0%B7%D0%B0%D0%BD%D1%8B/?do=findComment&comment=1629927'],\n",
              " 'ennui': ['https://topdeck.ru/forums/topic/7409-%D0%B1%D1%8B%D0%BB%D0%B8-%D0%BD%D0%B0%D0%BA%D0%B0%D0%B7%D0%B0%D0%BD%D1%8B/?do=findComment&comment=1629927'],\n",
              " 'глеб рождественский': ['https://topdeck.ru/forums/topic/7409-%D0%B1%D1%8B%D0%BB%D0%B8-%D0%BD%D0%B0%D0%BA%D0%B0%D0%B7%D0%B0%D0%BD%D1%8B/?do=findComment&comment=1629927'],\n",
              " 'vasiliy85': ['https://topdeck.ru/forums/topic/7409-%D0%B1%D1%8B%D0%BB%D0%B8-%D0%BD%D0%B0%D0%BA%D0%B0%D0%B7%D0%B0%D0%BD%D1%8B/?do=findComment&comment=1629927'],\n",
              " 'chudov\\xa0': ['https://topdeck.ru/forums/topic/7409-%D0%B1%D1%8B%D0%BB%D0%B8-%D0%BD%D0%B0%D0%BA%D0%B0%D0%B7%D0%B0%D0%BD%D1%8B/?do=findComment&comment=1629927'],\n",
              " 'jojofag': ['https://topdeck.ru/forums/topic/7409-%D0%B1%D1%8B%D0%BB%D0%B8-%D0%BD%D0%B0%D0%BA%D0%B0%D0%B7%D0%B0%D0%BD%D1%8B/?do=findComment&comment=1631469'],\n",
              " 'pertefff': ['https://topdeck.ru/forums/topic/7409-%D0%B1%D1%8B%D0%BB%D0%B8-%D0%BD%D0%B0%D0%BA%D0%B0%D0%B7%D0%B0%D0%BD%D1%8B/?do=findComment&comment=1631808'],\n",
              " 'родион власов': ['https://topdeck.ru/forums/topic/7409-%D0%B1%D1%8B%D0%BB%D0%B8-%D0%BD%D0%B0%D0%BA%D0%B0%D0%B7%D0%B0%D0%BD%D1%8B/?do=findComment&comment=1633148'],\n",
              " 'patriarx': ['https://topdeck.ru/forums/topic/7409-%D0%B1%D1%8B%D0%BB%D0%B8-%D0%BD%D0%B0%D0%BA%D0%B0%D0%B7%D0%B0%D0%BD%D1%8B/?do=findComment&comment=1633198'],\n",
              " 'omnath': ['https://topdeck.ru/forums/topic/7409-%D0%B1%D1%8B%D0%BB%D0%B8-%D0%BD%D0%B0%D0%BA%D0%B0%D0%B7%D0%B0%D0%BD%D1%8B/?do=findComment&comment=1635255'],\n",
              " 'evgenyi mir': ['https://topdeck.ru/forums/topic/7409-%D0%B1%D1%8B%D0%BB%D0%B8-%D0%BD%D0%B0%D0%BA%D0%B0%D0%B7%D0%B0%D0%BD%D1%8B/?do=findComment&comment=1635408'],\n",
              " 'joimas': ['https://topdeck.ru/forums/topic/7409-%D0%B1%D1%8B%D0%BB%D0%B8-%D0%BD%D0%B0%D0%BA%D0%B0%D0%B7%D0%B0%D0%BD%D1%8B/?do=findComment&comment=1635408'],\n",
              " 'mrsmesh': ['https://topdeck.ru/forums/topic/7409-%D0%B1%D1%8B%D0%BB%D0%B8-%D0%BD%D0%B0%D0%BA%D0%B0%D0%B7%D0%B0%D0%BD%D1%8B/?do=findComment&comment=1636237'],\n",
              " 'funfunfunfunfun': ['https://topdeck.ru/forums/topic/7409-%D0%B1%D1%8B%D0%BB%D0%B8-%D0%BD%D0%B0%D0%BA%D0%B0%D0%B7%D0%B0%D0%BD%D1%8B/?do=findComment&comment=1636764'],\n",
              " 'darkbudda': ['https://topdeck.ru/forums/topic/7409-%D0%B1%D1%8B%D0%BB%D0%B8-%D0%BD%D0%B0%D0%BA%D0%B0%D0%B7%D0%B0%D0%BD%D1%8B/?do=findComment&comment=1637999'],\n",
              " 'inak': ['https://topdeck.ru/forums/topic/7409-%D0%B1%D1%8B%D0%BB%D0%B8-%D0%BD%D0%B0%D0%BA%D0%B0%D0%B7%D0%B0%D0%BD%D1%8B/?do=findComment&comment=1638801'],\n",
              " 'akkami': ['https://topdeck.ru/forums/topic/7409-%D0%B1%D1%8B%D0%BB%D0%B8-%D0%BD%D0%B0%D0%BA%D0%B0%D0%B7%D0%B0%D0%BD%D1%8B/?do=findComment&comment=1640472'],\n",
              " 'strife': ['https://topdeck.ru/forums/topic/7409-%D0%B1%D1%8B%D0%BB%D0%B8-%D0%BD%D0%B0%D0%BA%D0%B0%D0%B7%D0%B0%D0%BD%D1%8B/?do=findComment&comment=1640643'],\n",
              " 'chukcha': ['https://topdeck.ru/forums/topic/7409-%D0%B1%D1%8B%D0%BB%D0%B8-%D0%BD%D0%B0%D0%BA%D0%B0%D0%B7%D0%B0%D0%BD%D1%8B/?do=findComment&comment=1641166'],\n",
              " 'янгалл': ['https://topdeck.ru/forums/topic/7409-%D0%B1%D1%8B%D0%BB%D0%B8-%D0%BD%D0%B0%D0%BA%D0%B0%D0%B7%D0%B0%D0%BD%D1%8B/?do=findComment&comment=1641243'],\n",
              " 'trollmann': ['https://topdeck.ru/forums/topic/7409-%D0%B1%D1%8B%D0%BB%D0%B8-%D0%BD%D0%B0%D0%BA%D0%B0%D0%B7%D0%B0%D0%BD%D1%8B/?do=findComment&comment=1641243'],\n",
              " 'jfox': ['https://topdeck.ru/forums/topic/7409-%D0%B1%D1%8B%D0%BB%D0%B8-%D0%BD%D0%B0%D0%BA%D0%B0%D0%B7%D0%B0%D0%BD%D1%8B/?do=findComment&comment=1641610'],\n",
              " 'анаколий': ['https://topdeck.ru/forums/topic/7409-%D0%B1%D1%8B%D0%BB%D0%B8-%D0%BD%D0%B0%D0%BA%D0%B0%D0%B7%D0%B0%D0%BD%D1%8B/?do=findComment&comment=1642787',\n",
              "  'https://topdeck.ru/forums/topic/7409-%D0%B1%D1%8B%D0%BB%D0%B8-%D0%BD%D0%B0%D0%BA%D0%B0%D0%B7%D0%B0%D0%BD%D1%8B/?do=findComment&comment=1641894'],\n",
              " 'arseny_002': ['https://topdeck.ru/forums/topic/7409-%D0%B1%D1%8B%D0%BB%D0%B8-%D0%BD%D0%B0%D0%BA%D0%B0%D0%B7%D0%B0%D0%BD%D1%8B/?do=findComment&comment=1642156'],\n",
              " 'dred_minsk': ['https://topdeck.ru/forums/topic/7409-%D0%B1%D1%8B%D0%BB%D0%B8-%D0%BD%D0%B0%D0%BA%D0%B0%D0%B7%D0%B0%D0%BD%D1%8B/?do=findComment&comment=1642411'],\n",
              " 'ignis': ['https://topdeck.ru/forums/topic/7409-%D0%B1%D1%8B%D0%BB%D0%B8-%D0%BD%D0%B0%D0%BA%D0%B0%D0%B7%D0%B0%D0%BD%D1%8B/?do=findComment&comment=1642787'],\n",
              " 'slowstreet': ['https://topdeck.ru/forums/topic/7409-%D0%B1%D1%8B%D0%BB%D0%B8-%D0%BD%D0%B0%D0%BA%D0%B0%D0%B7%D0%B0%D0%BD%D1%8B/?do=findComment&comment=1643139'],\n",
              " 'sunix': ['https://topdeck.ru/forums/topic/7409-%D0%B1%D1%8B%D0%BB%D0%B8-%D0%BD%D0%B0%D0%BA%D0%B0%D0%B7%D0%B0%D0%BD%D1%8B/?do=findComment&comment=1643252'],\n",
              " 'da2dy': ['https://topdeck.ru/forums/topic/7409-%D0%B1%D1%8B%D0%BB%D0%B8-%D0%BD%D0%B0%D0%BA%D0%B0%D0%B7%D0%B0%D0%BD%D1%8B/?do=findComment&comment=1643409'],\n",
              " 'dydyika': ['https://topdeck.ru/forums/topic/7409-%D0%B1%D1%8B%D0%BB%D0%B8-%D0%BD%D0%B0%D0%BA%D0%B0%D0%B7%D0%B0%D0%BD%D1%8B/?do=findComment&comment=1643865',\n",
              "  'https://topdeck.ru/forums/topic/7409-%D0%B1%D1%8B%D0%BB%D0%B8-%D0%BD%D0%B0%D0%BA%D0%B0%D0%B7%D0%B0%D0%BD%D1%8B/?do=findComment&comment=1643648'],\n",
              " 'bebrik': ['https://topdeck.ru/forums/topic/7409-%D0%B1%D1%8B%D0%BB%D0%B8-%D0%BD%D0%B0%D0%BA%D0%B0%D0%B7%D0%B0%D0%BD%D1%8B/?do=findComment&comment=1643865'],\n",
              " 'константин петров': ['https://topdeck.ru/forums/topic/7409-%D0%B1%D1%8B%D0%BB%D0%B8-%D0%BD%D0%B0%D0%BA%D0%B0%D0%B7%D0%B0%D0%BD%D1%8B/?do=findComment&comment=1643865']}"
            ]
          },
          "metadata": {},
          "execution_count": 6
        }
      ]
    },
    {
      "cell_type": "code",
      "source": [
        "def dict_addition(d1:dict, d2:dict):\n",
        "    '''\n",
        "    dicts should be dicts of lists, mutates d1\n",
        "    '''\n",
        "    for key in d2:\n",
        "        if key in d1:\n",
        "            d1[key] += d2[key]\n",
        "        else:\n",
        "            d1[key] = d2[key]\n",
        "\n",
        "d1 = {'ls':[0], 'sl':[1]} \n",
        "dict_addition(\n",
        "    d1,\n",
        "    {'ds':[0], 'ls':[1]}\n",
        ")\n",
        "d1"
      ],
      "metadata": {
        "colab": {
          "base_uri": "https://localhost:8080/"
        },
        "id": "PkzznGiksgI9",
        "outputId": "c5af92a7-5210-4198-a576-98ea72cb6175"
      },
      "execution_count": 7,
      "outputs": [
        {
          "output_type": "execute_result",
          "data": {
            "text/plain": [
              "{'ls': [0, 1], 'sl': [1], 'ds': [0]}"
            ]
          },
          "metadata": {},
          "execution_count": 7
        }
      ]
    },
    {
      "cell_type": "code",
      "source": [
        "# add reading of preparsed in future\n",
        "start_dict = {}"
      ],
      "metadata": {
        "id": "A_mTiXFtuWSz"
      },
      "execution_count": 8,
      "outputs": []
    },
    {
      "cell_type": "code",
      "source": [
        "def get_dict_with_retries(url, max_tries=9):\n",
        "    tries = 0\n",
        "    while tries < max_tries:\n",
        "        try:\n",
        "            return get_dict_for_one_page(url)\n",
        "        except ValueError:\n",
        "            print(f'parsing for url {url} failed, retrying')\n",
        "            time.sleep(5)\n",
        "            tries += 1\n",
        "    raise ValueError\n"
      ],
      "metadata": {
        "id": "aW4GfREevANA"
      },
      "execution_count": 9,
      "outputs": []
    },
    {
      "cell_type": "code",
      "source": [
        "applicable_pages = range(37, 0, -1)\n",
        "\n",
        "for page in tqdm.tqdm(applicable_pages):\n",
        "    current_url = f'https://topdeck.ru/forums/topic/7409-%D0%B1%D1%8B%D0%BB%D0%B8-%D0%BD%D0%B0%D0%BA%D0%B0%D0%B7%D0%B0%D0%BD%D1%8B/page/{page}/'\n",
        "    dict_for_page = get_dict_with_retries(current_url)\n",
        "    dict_addition(start_dict, dict_for_page)"
      ],
      "metadata": {
        "colab": {
          "base_uri": "https://localhost:8080/"
        },
        "id": "epAoK3AztDSE",
        "outputId": "51cbfbbe-1c14-45e1-ced4-1d5ec81597b6"
      },
      "execution_count": 10,
      "outputs": [
        {
          "output_type": "stream",
          "name": "stderr",
          "text": [
            " 41%|████      | 15/37 [00:38<01:13,  3.35s/it]"
          ]
        },
        {
          "output_type": "stream",
          "name": "stdout",
          "text": [
            "No users mentioned in message https://topdeck.ru/forums/topic/7409-%D0%B1%D1%8B%D0%BB%D0%B8-%D0%BD%D0%B0%D0%BA%D0%B0%D0%B7%D0%B0%D0%BD%D1%8B/?do=findComment&comment=1354644\n"
          ]
        },
        {
          "output_type": "stream",
          "name": "stderr",
          "text": [
            " 51%|█████▏    | 19/37 [00:47<00:43,  2.42s/it]"
          ]
        },
        {
          "output_type": "stream",
          "name": "stdout",
          "text": [
            "No users mentioned in message https://topdeck.ru/forums/topic/7409-%D0%B1%D1%8B%D0%BB%D0%B8-%D0%BD%D0%B0%D0%BA%D0%B0%D0%B7%D0%B0%D0%BD%D1%8B/?do=findComment&comment=1244807\n"
          ]
        },
        {
          "output_type": "stream",
          "name": "stderr",
          "text": [
            " 73%|███████▎  | 27/37 [01:04<00:22,  2.24s/it]"
          ]
        },
        {
          "output_type": "stream",
          "name": "stdout",
          "text": [
            "No users mentioned in message https://topdeck.ru/forums/topic/7409-%D0%B1%D1%8B%D0%BB%D0%B8-%D0%BD%D0%B0%D0%BA%D0%B0%D0%B7%D0%B0%D0%BD%D1%8B/?do=findComment&comment=865156\n",
            "No users mentioned in message https://topdeck.ru/forums/topic/7409-%D0%B1%D1%8B%D0%BB%D0%B8-%D0%BD%D0%B0%D0%BA%D0%B0%D0%B7%D0%B0%D0%BD%D1%8B/?do=findComment&comment=876706\n"
          ]
        },
        {
          "output_type": "stream",
          "name": "stderr",
          "text": [
            "\r 76%|███████▌  | 28/37 [01:06<00:20,  2.25s/it]"
          ]
        },
        {
          "output_type": "stream",
          "name": "stdout",
          "text": [
            "No users mentioned in message https://topdeck.ru/forums/topic/7409-%D0%B1%D1%8B%D0%BB%D0%B8-%D0%BD%D0%B0%D0%BA%D0%B0%D0%B7%D0%B0%D0%BD%D1%8B/?do=findComment&comment=801761\n",
            "No users mentioned in message https://topdeck.ru/forums/topic/7409-%D0%B1%D1%8B%D0%BB%D0%B8-%D0%BD%D0%B0%D0%BA%D0%B0%D0%B7%D0%B0%D0%BD%D1%8B/?do=findComment&comment=865105\n"
          ]
        },
        {
          "output_type": "stream",
          "name": "stderr",
          "text": [
            " 81%|████████  | 30/37 [01:10<00:15,  2.16s/it]"
          ]
        },
        {
          "output_type": "stream",
          "name": "stdout",
          "text": [
            "No users mentioned in message https://topdeck.ru/forums/topic/7409-%D0%B1%D1%8B%D0%BB%D0%B8-%D0%BD%D0%B0%D0%BA%D0%B0%D0%B7%D0%B0%D0%BD%D1%8B/?do=findComment&comment=528927\n",
            "No users mentioned in message https://topdeck.ru/forums/topic/7409-%D0%B1%D1%8B%D0%BB%D0%B8-%D0%BD%D0%B0%D0%BA%D0%B0%D0%B7%D0%B0%D0%BD%D1%8B/?do=findComment&comment=534007\n"
          ]
        },
        {
          "output_type": "stream",
          "name": "stderr",
          "text": [
            "\r 84%|████████▍ | 31/37 [01:13<00:12,  2.15s/it]"
          ]
        },
        {
          "output_type": "stream",
          "name": "stdout",
          "text": [
            "No users mentioned in message https://topdeck.ru/forums/topic/7409-%D0%B1%D1%8B%D0%BB%D0%B8-%D0%BD%D0%B0%D0%BA%D0%B0%D0%B7%D0%B0%D0%BD%D1%8B/?do=findComment&comment=452941\n",
            "No users mentioned in message https://topdeck.ru/forums/topic/7409-%D0%B1%D1%8B%D0%BB%D0%B8-%D0%BD%D0%B0%D0%BA%D0%B0%D0%B7%D0%B0%D0%BD%D1%8B/?do=findComment&comment=480390\n",
            "No users mentioned in message https://topdeck.ru/forums/topic/7409-%D0%B1%D1%8B%D0%BB%D0%B8-%D0%BD%D0%B0%D0%BA%D0%B0%D0%B7%D0%B0%D0%BD%D1%8B/?do=findComment&comment=484376\n",
            "No users mentioned in message https://topdeck.ru/forums/topic/7409-%D0%B1%D1%8B%D0%BB%D0%B8-%D0%BD%D0%B0%D0%BA%D0%B0%D0%B7%D0%B0%D0%BD%D1%8B/?do=findComment&comment=496971\n"
          ]
        },
        {
          "output_type": "stream",
          "name": "stderr",
          "text": [
            "\r 86%|████████▋ | 32/37 [01:15<00:10,  2.13s/it]"
          ]
        },
        {
          "output_type": "stream",
          "name": "stdout",
          "text": [
            "No users mentioned in message https://topdeck.ru/forums/topic/7409-%D0%B1%D1%8B%D0%BB%D0%B8-%D0%BD%D0%B0%D0%BA%D0%B0%D0%B7%D0%B0%D0%BD%D1%8B/?do=findComment&comment=397517\n",
            "No users mentioned in message https://topdeck.ru/forums/topic/7409-%D0%B1%D1%8B%D0%BB%D0%B8-%D0%BD%D0%B0%D0%BA%D0%B0%D0%B7%D0%B0%D0%BD%D1%8B/?do=findComment&comment=438624\n"
          ]
        },
        {
          "output_type": "stream",
          "name": "stderr",
          "text": [
            "\r 89%|████████▉ | 33/37 [01:17<00:08,  2.10s/it]"
          ]
        },
        {
          "output_type": "stream",
          "name": "stdout",
          "text": [
            "No users mentioned in message https://topdeck.ru/forums/topic/7409-%D0%B1%D1%8B%D0%BB%D0%B8-%D0%BD%D0%B0%D0%BA%D0%B0%D0%B7%D0%B0%D0%BD%D1%8B/?do=findComment&comment=331023\n",
            "No users mentioned in message https://topdeck.ru/forums/topic/7409-%D0%B1%D1%8B%D0%BB%D0%B8-%D0%BD%D0%B0%D0%BA%D0%B0%D0%B7%D0%B0%D0%BD%D1%8B/?do=findComment&comment=382200\n",
            "No users mentioned in message https://topdeck.ru/forums/topic/7409-%D0%B1%D1%8B%D0%BB%D0%B8-%D0%BD%D0%B0%D0%BA%D0%B0%D0%B7%D0%B0%D0%BD%D1%8B/?do=findComment&comment=388821\n"
          ]
        },
        {
          "output_type": "stream",
          "name": "stderr",
          "text": [
            "\r 92%|█████████▏| 34/37 [01:19<00:06,  2.09s/it]"
          ]
        },
        {
          "output_type": "stream",
          "name": "stdout",
          "text": [
            "No users mentioned in message https://topdeck.ru/forums/topic/7409-%D0%B1%D1%8B%D0%BB%D0%B8-%D0%BD%D0%B0%D0%BA%D0%B0%D0%B7%D0%B0%D0%BD%D1%8B/?do=findComment&comment=296445\n",
            "No users mentioned in message https://topdeck.ru/forums/topic/7409-%D0%B1%D1%8B%D0%BB%D0%B8-%D0%BD%D0%B0%D0%BA%D0%B0%D0%B7%D0%B0%D0%BD%D1%8B/?do=findComment&comment=302908\n"
          ]
        },
        {
          "output_type": "stream",
          "name": "stderr",
          "text": [
            "\r 95%|█████████▍| 35/37 [01:21<00:04,  2.07s/it]"
          ]
        },
        {
          "output_type": "stream",
          "name": "stdout",
          "text": [
            "No users mentioned in message https://topdeck.ru/forums/topic/7409-%D0%B1%D1%8B%D0%BB%D0%B8-%D0%BD%D0%B0%D0%BA%D0%B0%D0%B7%D0%B0%D0%BD%D1%8B/?do=findComment&comment=290083\n"
          ]
        },
        {
          "output_type": "stream",
          "name": "stderr",
          "text": [
            "\r 97%|█████████▋| 36/37 [01:23<00:02,  2.06s/it]"
          ]
        },
        {
          "output_type": "stream",
          "name": "stdout",
          "text": [
            "No users mentioned in message https://topdeck.ru/forums/topic/7409-%D0%B1%D1%8B%D0%BB%D0%B8-%D0%BD%D0%B0%D0%BA%D0%B0%D0%B7%D0%B0%D0%BD%D1%8B/?do=findComment&comment=221431\n",
            "No users mentioned in message https://topdeck.ru/forums/topic/7409-%D0%B1%D1%8B%D0%BB%D0%B8-%D0%BD%D0%B0%D0%BA%D0%B0%D0%B7%D0%B0%D0%BD%D1%8B/?do=findComment&comment=240801\n",
            "No users mentioned in message https://topdeck.ru/forums/topic/7409-%D0%B1%D1%8B%D0%BB%D0%B8-%D0%BD%D0%B0%D0%BA%D0%B0%D0%B7%D0%B0%D0%BD%D1%8B/?do=findComment&comment=241043\n"
          ]
        },
        {
          "output_type": "stream",
          "name": "stderr",
          "text": [
            "100%|██████████| 37/37 [01:25<00:00,  2.31s/it]"
          ]
        },
        {
          "output_type": "stream",
          "name": "stdout",
          "text": [
            "No users mentioned in message https://topdeck.ru/forums/topic/7409-%D0%B1%D1%8B%D0%BB%D0%B8-%D0%BD%D0%B0%D0%BA%D0%B0%D0%B7%D0%B0%D0%BD%D1%8B/?do=findComment&comment=171975\n",
            "No users mentioned in message https://topdeck.ru/forums/topic/7409-%D0%B1%D1%8B%D0%BB%D0%B8-%D0%BD%D0%B0%D0%BA%D0%B0%D0%B7%D0%B0%D0%BD%D1%8B/?do=findComment&comment=190325\n",
            "No users mentioned in message https://topdeck.ru/forums/topic/7409-%D0%B1%D1%8B%D0%BB%D0%B8-%D0%BD%D0%B0%D0%BA%D0%B0%D0%B7%D0%B0%D0%BD%D1%8B/?do=findComment&comment=194262\n",
            "No users mentioned in message https://topdeck.ru/forums/topic/7409-%D0%B1%D1%8B%D0%BB%D0%B8-%D0%BD%D0%B0%D0%BA%D0%B0%D0%B7%D0%B0%D0%BD%D1%8B/?do=findComment&comment=203929\n"
          ]
        },
        {
          "output_type": "stream",
          "name": "stderr",
          "text": [
            "\n"
          ]
        }
      ]
    },
    {
      "cell_type": "code",
      "source": [
        "users = list(zip(start_dict.keys(), [len(a) for a in start_dict.values()]))\n",
        "users.sort(key=lambda x: -x[1])"
      ],
      "metadata": {
        "id": "w7J1iTumxEib"
      },
      "execution_count": 11,
      "outputs": []
    },
    {
      "cell_type": "code",
      "source": [
        "users[:20]"
      ],
      "metadata": {
        "colab": {
          "base_uri": "https://localhost:8080/"
        },
        "id": "AnSlTzCc3Pyh",
        "outputId": "fb66e469-9069-46a2-ac6e-a8f7251eaf8b"
      },
      "execution_count": 12,
      "outputs": [
        {
          "output_type": "execute_result",
          "data": {
            "text/plain": [
              "[('goodspeed', 17),\n",
              " ('/dev/null', 12),\n",
              " ('mrm83', 9),\n",
              " ('salva', 7),\n",
              " ('padus', 6),\n",
              " ('exhume', 5),\n",
              " ('michael', 5),\n",
              " ('serg121', 5),\n",
              " ('sorcerec', 5),\n",
              " ('nortus', 4),\n",
              " ('badsanta', 4),\n",
              " ('vishen', 4),\n",
              " ('sorcerec ', 4),\n",
              " ('fritz', 4),\n",
              " ('eek1tweek', 3),\n",
              " ('pervitin_panzinger', 3),\n",
              " ('temiaj', 3),\n",
              " ('streatmagic', 3),\n",
              " ('farsmac', 3),\n",
              " ('gods of the war', 3)]"
            ]
          },
          "metadata": {},
          "execution_count": 12
        }
      ]
    },
    {
      "cell_type": "code",
      "source": [
        "start_dict['thefamilyman']"
      ],
      "metadata": {
        "colab": {
          "base_uri": "https://localhost:8080/"
        },
        "id": "ZOCOghtA4c7n",
        "outputId": "959c5afe-b305-403e-c023-d5adfe4d8323"
      },
      "execution_count": 13,
      "outputs": [
        {
          "output_type": "execute_result",
          "data": {
            "text/plain": [
              "['https://topdeck.ru/forums/topic/7409-%D0%B1%D1%8B%D0%BB%D0%B8-%D0%BD%D0%B0%D0%BA%D0%B0%D0%B7%D0%B0%D0%BD%D1%8B/?do=findComment&comment=1144154']"
            ]
          },
          "metadata": {},
          "execution_count": 13
        }
      ]
    },
    {
      "cell_type": "code",
      "source": [
        "buffer = ''\n",
        "\n",
        "for k in tqdm.tqdm(start_dict):\n",
        "    buffer += f'{k}:\\n'\n",
        "    buffer += f'{start_dict[k]}\\n'\n",
        "\n",
        "out_file = open('banned_users.txt', 'w')\n",
        "out_file.write(buffer)\n",
        "out_file.close()"
      ],
      "metadata": {
        "colab": {
          "base_uri": "https://localhost:8080/"
        },
        "id": "4xskN4lN3T2d",
        "outputId": "4685aef4-ada5-4de5-8c9c-b8ff95f9e71c"
      },
      "execution_count": 14,
      "outputs": [
        {
          "output_type": "stream",
          "name": "stderr",
          "text": [
            "100%|██████████| 1046/1046 [00:00<00:00, 281775.34it/s]\n"
          ]
        }
      ]
    },
    {
      "cell_type": "code",
      "source": [],
      "metadata": {
        "id": "7tURlVVn7ysm"
      },
      "execution_count": 14,
      "outputs": []
    }
  ]
}